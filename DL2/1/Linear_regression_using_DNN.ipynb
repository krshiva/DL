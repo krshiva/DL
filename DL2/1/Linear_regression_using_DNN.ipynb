{
 "cells": [
  {
   "cell_type": "code",
   "execution_count": 45,
   "metadata": {
    "id": "642bSOecxDcf"
   },
   "outputs": [],
   "source": [
    "import tensorflow as tf\n",
    "import numpy as np\n",
    "import pandas as pd\n",
    "\n",
    "from sklearn import preprocessing\n",
    "from sklearn.model_selectiong import train_test_split\n",
    "from sklearn.metrics import mean_squared_error\n",
    "\n",
    "from sklearn.model_selection import train_test_split\n",
    "from sklearn.preprocessing import StandardScaler\n",
    "from keras.models import Sequential\n",
    "from keras.layers import Dense"
   ]
  },
  {
   "cell_type": "code",
   "execution_count": 46,
   "metadata": {
    "colab": {
     "base_uri": "https://localhost:8080/",
     "height": 363
    },
    "id": "JHep43E-x7kk",
    "outputId": "94647457-9538-4b1d-9757-eaf32084cced"
   },
   "outputs": [
    {
     "data": {
      "text/html": [
       "<div>\n",
       "<style scoped>\n",
       "    .dataframe tbody tr th:only-of-type {\n",
       "        vertical-align: middle;\n",
       "    }\n",
       "\n",
       "    .dataframe tbody tr th {\n",
       "        vertical-align: top;\n",
       "    }\n",
       "\n",
       "    .dataframe thead th {\n",
       "        text-align: right;\n",
       "    }\n",
       "</style>\n",
       "<table border=\"1\" class=\"dataframe\">\n",
       "  <thead>\n",
       "    <tr style=\"text-align: right;\">\n",
       "      <th></th>\n",
       "      <th>CRIM</th>\n",
       "      <th>ZN</th>\n",
       "      <th>INDUS</th>\n",
       "      <th>CHAS</th>\n",
       "      <th>NOX</th>\n",
       "      <th>RM</th>\n",
       "      <th>AGE</th>\n",
       "      <th>DIS</th>\n",
       "      <th>RAD</th>\n",
       "      <th>TAX</th>\n",
       "      <th>PTRATIO</th>\n",
       "      <th>B</th>\n",
       "      <th>LSTAT</th>\n",
       "      <th>MEDV</th>\n",
       "    </tr>\n",
       "  </thead>\n",
       "  <tbody>\n",
       "    <tr>\n",
       "      <th>0</th>\n",
       "      <td>0.00632</td>\n",
       "      <td>18.0</td>\n",
       "      <td>2.31</td>\n",
       "      <td>0.0</td>\n",
       "      <td>0.538</td>\n",
       "      <td>6.575</td>\n",
       "      <td>65.2</td>\n",
       "      <td>4.0900</td>\n",
       "      <td>1</td>\n",
       "      <td>296</td>\n",
       "      <td>15.3</td>\n",
       "      <td>396.90</td>\n",
       "      <td>4.98</td>\n",
       "      <td>24.0</td>\n",
       "    </tr>\n",
       "    <tr>\n",
       "      <th>1</th>\n",
       "      <td>0.02731</td>\n",
       "      <td>0.0</td>\n",
       "      <td>7.07</td>\n",
       "      <td>0.0</td>\n",
       "      <td>0.469</td>\n",
       "      <td>6.421</td>\n",
       "      <td>78.9</td>\n",
       "      <td>4.9671</td>\n",
       "      <td>2</td>\n",
       "      <td>242</td>\n",
       "      <td>17.8</td>\n",
       "      <td>396.90</td>\n",
       "      <td>9.14</td>\n",
       "      <td>21.6</td>\n",
       "    </tr>\n",
       "    <tr>\n",
       "      <th>2</th>\n",
       "      <td>0.02729</td>\n",
       "      <td>0.0</td>\n",
       "      <td>7.07</td>\n",
       "      <td>0.0</td>\n",
       "      <td>0.469</td>\n",
       "      <td>7.185</td>\n",
       "      <td>61.1</td>\n",
       "      <td>4.9671</td>\n",
       "      <td>2</td>\n",
       "      <td>242</td>\n",
       "      <td>17.8</td>\n",
       "      <td>392.83</td>\n",
       "      <td>4.03</td>\n",
       "      <td>34.7</td>\n",
       "    </tr>\n",
       "    <tr>\n",
       "      <th>3</th>\n",
       "      <td>0.03237</td>\n",
       "      <td>0.0</td>\n",
       "      <td>2.18</td>\n",
       "      <td>0.0</td>\n",
       "      <td>0.458</td>\n",
       "      <td>6.998</td>\n",
       "      <td>45.8</td>\n",
       "      <td>6.0622</td>\n",
       "      <td>3</td>\n",
       "      <td>222</td>\n",
       "      <td>18.7</td>\n",
       "      <td>394.63</td>\n",
       "      <td>2.94</td>\n",
       "      <td>33.4</td>\n",
       "    </tr>\n",
       "    <tr>\n",
       "      <th>4</th>\n",
       "      <td>0.06905</td>\n",
       "      <td>0.0</td>\n",
       "      <td>2.18</td>\n",
       "      <td>0.0</td>\n",
       "      <td>0.458</td>\n",
       "      <td>7.147</td>\n",
       "      <td>54.2</td>\n",
       "      <td>6.0622</td>\n",
       "      <td>3</td>\n",
       "      <td>222</td>\n",
       "      <td>18.7</td>\n",
       "      <td>396.90</td>\n",
       "      <td>NaN</td>\n",
       "      <td>36.2</td>\n",
       "    </tr>\n",
       "  </tbody>\n",
       "</table>\n",
       "</div>"
      ],
      "text/plain": [
       "      CRIM    ZN  INDUS  CHAS    NOX     RM   AGE     DIS  RAD  TAX  PTRATIO  \\\n",
       "0  0.00632  18.0   2.31   0.0  0.538  6.575  65.2  4.0900    1  296     15.3   \n",
       "1  0.02731   0.0   7.07   0.0  0.469  6.421  78.9  4.9671    2  242     17.8   \n",
       "2  0.02729   0.0   7.07   0.0  0.469  7.185  61.1  4.9671    2  242     17.8   \n",
       "3  0.03237   0.0   2.18   0.0  0.458  6.998  45.8  6.0622    3  222     18.7   \n",
       "4  0.06905   0.0   2.18   0.0  0.458  7.147  54.2  6.0622    3  222     18.7   \n",
       "\n",
       "        B  LSTAT  MEDV  \n",
       "0  396.90   4.98  24.0  \n",
       "1  396.90   9.14  21.6  \n",
       "2  392.83   4.03  34.7  \n",
       "3  394.63   2.94  33.4  \n",
       "4  396.90    NaN  36.2  "
      ]
     },
     "execution_count": 46,
     "metadata": {},
     "output_type": "execute_result"
    }
   ],
   "source": [
    "df = pd.read_csv(r'HousingData.csv')\n",
    "df.head(5)"
   ]
  },
  {
   "cell_type": "code",
   "execution_count": 47,
   "metadata": {
    "colab": {
     "base_uri": "https://localhost:8080/"
    },
    "id": "eK_JRSl03_wj",
    "outputId": "39bca078-2b2d-42ba-adfa-af3f61797a72"
   },
   "outputs": [
    {
     "data": {
      "text/plain": [
       "CRIM       20\n",
       "ZN         20\n",
       "INDUS      20\n",
       "CHAS       20\n",
       "NOX         0\n",
       "RM          0\n",
       "AGE        20\n",
       "DIS         0\n",
       "RAD         0\n",
       "TAX         0\n",
       "PTRATIO     0\n",
       "B           0\n",
       "LSTAT      20\n",
       "MEDV        0\n",
       "dtype: int64"
      ]
     },
     "execution_count": 47,
     "metadata": {},
     "output_type": "execute_result"
    }
   ],
   "source": [
    "df.isnull().sum()"
   ]
  },
  {
   "cell_type": "code",
   "execution_count": 48,
   "metadata": {
    "id": "Afpk5CC0y9b9"
   },
   "outputs": [],
   "source": [
    "df = df.fillna(df.mean())"
   ]
  },
  {
   "cell_type": "code",
   "execution_count": 49,
   "metadata": {
    "colab": {
     "base_uri": "https://localhost:8080/"
    },
    "id": "leDzLvIQzAMl",
    "outputId": "cc2bc552-bb4f-4863-8d0d-b112c59cb009"
   },
   "outputs": [
    {
     "data": {
      "text/plain": [
       "CRIM       0\n",
       "ZN         0\n",
       "INDUS      0\n",
       "CHAS       0\n",
       "NOX        0\n",
       "RM         0\n",
       "AGE        0\n",
       "DIS        0\n",
       "RAD        0\n",
       "TAX        0\n",
       "PTRATIO    0\n",
       "B          0\n",
       "LSTAT      0\n",
       "MEDV       0\n",
       "dtype: int64"
      ]
     },
     "execution_count": 49,
     "metadata": {},
     "output_type": "execute_result"
    }
   ],
   "source": [
    "df.isnull().sum()"
   ]
  },
  {
   "cell_type": "code",
   "execution_count": 50,
   "metadata": {
    "id": "lldSDwHh3WzH"
   },
   "outputs": [],
   "source": [
    "X=df.iloc[:,df.columns!='MEDV']\n",
    "y=df.iloc[:,df.columns=='MEDV']\n",
    "\n",
    "\n",
    "X_train, X_test, y_train, y_test = train_test_split(X, y, test_size=0.2, random_state=123)"
   ]
  },
  {
   "cell_type": "code",
   "execution_count": 51,
   "metadata": {
    "colab": {
     "base_uri": "https://localhost:8080/"
    },
    "id": "yq5NjVaQy5GG",
    "outputId": "171cebbc-38bc-44b9-8348-b8caf52f2f47"
   },
   "outputs": [
    {
     "name": "stdout",
     "output_type": "stream",
     "text": [
      "Model: \"sequential_2\"\n",
      "_________________________________________________________________\n",
      " Layer (type)                Output Shape              Param #   \n",
      "=================================================================\n",
      " dense_1 (Dense)             (None, 128)               1792      \n",
      "                                                                 \n",
      " dense_2 (Dense)             (None, 64)                8256      \n",
      "                                                                 \n",
      " dense_output (Dense)        (None, 1)                 65        \n",
      "                                                                 \n",
      "=================================================================\n",
      "Total params: 10,113\n",
      "Trainable params: 10,113\n",
      "Non-trainable params: 0\n",
      "_________________________________________________________________\n"
     ]
    }
   ],
   "source": [
    "model = Sequential()\n",
    "\n",
    "model.add(Dense(128, input_shape=(13, ), activation='relu', name='dense_1'))\n",
    "model.add(Dense(64, activation='relu', name='dense_2'))\n",
    "model.add(Dense(1, activation='linear', name='dense_output'))\n",
    "\n",
    "model.compile(optimizer='adam', loss='mean_squared_error')\n",
    "model.summary()"
   ]
  },
  {
   "cell_type": "code",
   "execution_count": 52,
   "metadata": {
    "colab": {
     "base_uri": "https://localhost:8080/"
    },
    "id": "OiP4Pyxcy7Ag",
    "outputId": "c300130c-1f42-42d3-a51f-6fa3f3da3051"
   },
   "outputs": [
    {
     "name": "stdout",
     "output_type": "stream",
     "text": [
      "Epoch 1/100\n",
      "12/12 [==============================] - 1s 31ms/step - loss: 1338.4128 - val_loss: 321.1091\n",
      "Epoch 2/100\n",
      "12/12 [==============================] - 0s 8ms/step - loss: 198.0421 - val_loss: 160.4859\n",
      "Epoch 3/100\n",
      "12/12 [==============================] - 0s 8ms/step - loss: 111.5765 - val_loss: 146.6302\n",
      "Epoch 4/100\n",
      "12/12 [==============================] - 0s 7ms/step - loss: 76.7132 - val_loss: 103.8296\n",
      "Epoch 5/100\n",
      "12/12 [==============================] - 0s 10ms/step - loss: 64.0451 - val_loss: 104.8656\n",
      "Epoch 6/100\n",
      "12/12 [==============================] - 0s 9ms/step - loss: 58.9810 - val_loss: 99.1717\n",
      "Epoch 7/100\n",
      "12/12 [==============================] - 0s 8ms/step - loss: 55.7429 - val_loss: 100.2666\n",
      "Epoch 8/100\n",
      "12/12 [==============================] - 0s 8ms/step - loss: 54.5802 - val_loss: 100.8898\n",
      "Epoch 9/100\n",
      "12/12 [==============================] - 0s 8ms/step - loss: 53.4120 - val_loss: 99.6384\n",
      "Epoch 10/100\n",
      "12/12 [==============================] - 0s 8ms/step - loss: 54.0896 - val_loss: 99.4369\n",
      "Epoch 11/100\n",
      "12/12 [==============================] - 0s 8ms/step - loss: 52.0286 - val_loss: 100.7660\n",
      "Epoch 12/100\n",
      "12/12 [==============================] - 0s 8ms/step - loss: 51.4948 - val_loss: 100.4583\n",
      "Epoch 13/100\n",
      "12/12 [==============================] - 0s 9ms/step - loss: 50.8199 - val_loss: 99.5911\n",
      "Epoch 14/100\n",
      "12/12 [==============================] - 0s 9ms/step - loss: 51.3780 - val_loss: 105.9200\n",
      "Epoch 15/100\n",
      "12/12 [==============================] - 0s 9ms/step - loss: 50.0319 - val_loss: 94.4312\n",
      "Epoch 16/100\n",
      "12/12 [==============================] - 0s 8ms/step - loss: 48.6650 - val_loss: 96.0608\n",
      "Epoch 17/100\n",
      "12/12 [==============================] - 0s 8ms/step - loss: 48.5795 - val_loss: 102.8920\n",
      "Epoch 18/100\n",
      "12/12 [==============================] - 0s 8ms/step - loss: 50.4019 - val_loss: 96.9352\n",
      "Epoch 19/100\n",
      "12/12 [==============================] - 0s 8ms/step - loss: 47.5512 - val_loss: 92.1512\n",
      "Epoch 20/100\n",
      "12/12 [==============================] - 0s 8ms/step - loss: 47.2843 - val_loss: 90.4241\n",
      "Epoch 21/100\n",
      "12/12 [==============================] - 0s 7ms/step - loss: 45.8882 - val_loss: 92.0324\n",
      "Epoch 22/100\n",
      "12/12 [==============================] - 0s 8ms/step - loss: 45.3668 - val_loss: 94.7803\n",
      "Epoch 23/100\n",
      "12/12 [==============================] - 0s 8ms/step - loss: 44.9504 - val_loss: 91.7860\n",
      "Epoch 24/100\n",
      "12/12 [==============================] - 0s 8ms/step - loss: 44.0528 - val_loss: 88.9313\n",
      "Epoch 25/100\n",
      "12/12 [==============================] - 0s 8ms/step - loss: 44.1664 - val_loss: 87.2699\n",
      "Epoch 26/100\n",
      "12/12 [==============================] - 0s 8ms/step - loss: 43.6832 - val_loss: 90.2500\n",
      "Epoch 27/100\n",
      "12/12 [==============================] - 0s 8ms/step - loss: 43.2595 - val_loss: 86.6590\n",
      "Epoch 28/100\n",
      "12/12 [==============================] - 0s 9ms/step - loss: 44.4382 - val_loss: 87.0054\n",
      "Epoch 29/100\n",
      "12/12 [==============================] - 0s 8ms/step - loss: 43.2950 - val_loss: 86.0360\n",
      "Epoch 30/100\n",
      "12/12 [==============================] - ETA: 0s - loss: 46.13 - 0s 8ms/step - loss: 43.2502 - val_loss: 89.2564\n",
      "Epoch 31/100\n",
      "12/12 [==============================] - 0s 8ms/step - loss: 42.0960 - val_loss: 89.9297\n",
      "Epoch 32/100\n",
      "12/12 [==============================] - 0s 8ms/step - loss: 40.2065 - val_loss: 84.4502\n",
      "Epoch 33/100\n",
      "12/12 [==============================] - 0s 8ms/step - loss: 40.8186 - val_loss: 83.9345\n",
      "Epoch 34/100\n",
      "12/12 [==============================] - 0s 9ms/step - loss: 39.7409 - val_loss: 82.6735\n",
      "Epoch 35/100\n",
      "12/12 [==============================] - 0s 9ms/step - loss: 38.8899 - val_loss: 80.0973\n",
      "Epoch 36/100\n",
      "12/12 [==============================] - 0s 9ms/step - loss: 38.1723 - val_loss: 81.1569\n",
      "Epoch 37/100\n",
      "12/12 [==============================] - 0s 10ms/step - loss: 37.8961 - val_loss: 80.0444\n",
      "Epoch 38/100\n",
      "12/12 [==============================] - 0s 10ms/step - loss: 38.5004 - val_loss: 78.7623\n",
      "Epoch 39/100\n",
      "12/12 [==============================] - 0s 9ms/step - loss: 35.8512 - val_loss: 79.6607\n",
      "Epoch 40/100\n",
      "12/12 [==============================] - 0s 8ms/step - loss: 37.1178 - val_loss: 90.7593\n",
      "Epoch 41/100\n",
      "12/12 [==============================] - 0s 8ms/step - loss: 35.6249 - val_loss: 91.7159\n",
      "Epoch 42/100\n",
      "12/12 [==============================] - 0s 8ms/step - loss: 34.2435 - val_loss: 80.7419\n",
      "Epoch 43/100\n",
      "12/12 [==============================] - 0s 7ms/step - loss: 34.0373 - val_loss: 76.6121\n",
      "Epoch 44/100\n",
      "12/12 [==============================] - 0s 8ms/step - loss: 33.3949 - val_loss: 82.1493\n",
      "Epoch 45/100\n",
      "12/12 [==============================] - 0s 8ms/step - loss: 33.1482 - val_loss: 80.5894\n",
      "Epoch 46/100\n",
      "12/12 [==============================] - 0s 8ms/step - loss: 32.7057 - val_loss: 81.8092\n",
      "Epoch 47/100\n",
      "12/12 [==============================] - 0s 8ms/step - loss: 33.7002 - val_loss: 74.1080\n",
      "Epoch 48/100\n",
      "12/12 [==============================] - 0s 8ms/step - loss: 31.1379 - val_loss: 102.5452\n",
      "Epoch 49/100\n",
      "12/12 [==============================] - 0s 9ms/step - loss: 34.7867 - val_loss: 76.3477\n",
      "Epoch 50/100\n",
      "12/12 [==============================] - 0s 8ms/step - loss: 32.0392 - val_loss: 75.1113\n",
      "Epoch 51/100\n",
      "12/12 [==============================] - 0s 9ms/step - loss: 30.1896 - val_loss: 76.8268\n",
      "Epoch 52/100\n",
      "12/12 [==============================] - 0s 8ms/step - loss: 30.1914 - val_loss: 84.5019\n",
      "Epoch 53/100\n",
      "12/12 [==============================] - 0s 8ms/step - loss: 30.4657 - val_loss: 86.7865\n",
      "Epoch 54/100\n",
      "12/12 [==============================] - 0s 8ms/step - loss: 30.5437 - val_loss: 78.3060\n",
      "Epoch 55/100\n",
      "12/12 [==============================] - 0s 9ms/step - loss: 31.5745 - val_loss: 82.3419\n",
      "Epoch 56/100\n",
      "12/12 [==============================] - 0s 8ms/step - loss: 29.1200 - val_loss: 85.4310\n",
      "Epoch 57/100\n",
      "12/12 [==============================] - 0s 8ms/step - loss: 28.8203 - val_loss: 77.7136\n",
      "Epoch 58/100\n",
      "12/12 [==============================] - 0s 8ms/step - loss: 28.5877 - val_loss: 83.0410\n",
      "Epoch 59/100\n",
      "12/12 [==============================] - 0s 9ms/step - loss: 28.6210 - val_loss: 82.2475\n",
      "Epoch 60/100\n",
      "12/12 [==============================] - 0s 10ms/step - loss: 29.2336 - val_loss: 84.0964\n",
      "Epoch 61/100\n",
      "12/12 [==============================] - 0s 10ms/step - loss: 28.3664 - val_loss: 83.8074\n",
      "Epoch 62/100\n",
      "12/12 [==============================] - 0s 9ms/step - loss: 28.4749 - val_loss: 78.4701\n",
      "Epoch 63/100\n",
      "12/12 [==============================] - 0s 8ms/step - loss: 28.2633 - val_loss: 83.6113\n",
      "Epoch 64/100\n",
      "12/12 [==============================] - 0s 8ms/step - loss: 29.3316 - val_loss: 81.0630\n",
      "Epoch 65/100\n",
      "12/12 [==============================] - 0s 9ms/step - loss: 27.1548 - val_loss: 82.1232\n",
      "Epoch 66/100\n",
      "12/12 [==============================] - 0s 9ms/step - loss: 27.2035 - val_loss: 90.4305\n",
      "Epoch 67/100\n",
      "12/12 [==============================] - 0s 11ms/step - loss: 28.0730 - val_loss: 72.2442\n",
      "Epoch 68/100\n",
      "12/12 [==============================] - 0s 9ms/step - loss: 28.2536 - val_loss: 72.2765\n",
      "Epoch 69/100\n",
      "12/12 [==============================] - 0s 9ms/step - loss: 30.3138 - val_loss: 83.0947\n",
      "Epoch 70/100\n",
      "12/12 [==============================] - 0s 9ms/step - loss: 25.8216 - val_loss: 98.8213\n",
      "Epoch 71/100\n",
      "12/12 [==============================] - 0s 9ms/step - loss: 27.0707 - val_loss: 81.7622\n",
      "Epoch 72/100\n",
      "12/12 [==============================] - 0s 7ms/step - loss: 28.6503 - val_loss: 87.5634\n",
      "Epoch 73/100\n",
      "12/12 [==============================] - 0s 7ms/step - loss: 27.3123 - val_loss: 73.2694\n",
      "Epoch 74/100\n",
      "12/12 [==============================] - 0s 9ms/step - loss: 30.7485 - val_loss: 67.3058\n",
      "Epoch 75/100\n",
      "12/12 [==============================] - 0s 8ms/step - loss: 28.0274 - val_loss: 84.0099\n",
      "Epoch 76/100\n",
      "12/12 [==============================] - 0s 8ms/step - loss: 24.8626 - val_loss: 84.3998\n",
      "Epoch 77/100\n",
      "12/12 [==============================] - 0s 9ms/step - loss: 25.1715 - val_loss: 83.8593\n",
      "Epoch 78/100\n",
      "12/12 [==============================] - 0s 9ms/step - loss: 26.7044 - val_loss: 68.2667\n",
      "Epoch 79/100\n",
      "12/12 [==============================] - 0s 9ms/step - loss: 24.5255 - val_loss: 77.9542\n",
      "Epoch 80/100\n",
      "12/12 [==============================] - 0s 10ms/step - loss: 24.2154 - val_loss: 75.3260\n"
     ]
    },
    {
     "name": "stdout",
     "output_type": "stream",
     "text": [
      "Epoch 81/100\n",
      "12/12 [==============================] - 0s 12ms/step - loss: 25.4528 - val_loss: 67.0249\n",
      "Epoch 82/100\n",
      "12/12 [==============================] - 0s 9ms/step - loss: 28.5637 - val_loss: 96.4309\n",
      "Epoch 83/100\n",
      "12/12 [==============================] - 0s 10ms/step - loss: 26.3446 - val_loss: 79.0195\n",
      "Epoch 84/100\n",
      "12/12 [==============================] - 0s 9ms/step - loss: 24.4567 - val_loss: 77.1657\n",
      "Epoch 85/100\n",
      "12/12 [==============================] - 0s 9ms/step - loss: 25.2930 - val_loss: 97.8030\n",
      "Epoch 86/100\n",
      "12/12 [==============================] - 0s 9ms/step - loss: 24.4948 - val_loss: 72.4801\n",
      "Epoch 87/100\n",
      "12/12 [==============================] - 0s 8ms/step - loss: 26.8482 - val_loss: 95.5374\n",
      "Epoch 88/100\n",
      "12/12 [==============================] - 0s 6ms/step - loss: 27.1464 - val_loss: 68.9497\n",
      "Epoch 89/100\n",
      "12/12 [==============================] - 0s 9ms/step - loss: 24.3210 - val_loss: 93.5190\n",
      "Epoch 90/100\n",
      "12/12 [==============================] - 0s 7ms/step - loss: 26.8662 - val_loss: 70.0742\n",
      "Epoch 91/100\n",
      "12/12 [==============================] - 0s 9ms/step - loss: 24.8486 - val_loss: 90.9688\n",
      "Epoch 92/100\n",
      "12/12 [==============================] - 0s 9ms/step - loss: 25.0879 - val_loss: 71.2072\n",
      "Epoch 93/100\n",
      "12/12 [==============================] - 0s 10ms/step - loss: 26.7029 - val_loss: 89.7908\n",
      "Epoch 94/100\n",
      "12/12 [==============================] - 0s 9ms/step - loss: 25.3191 - val_loss: 74.9214\n",
      "Epoch 95/100\n",
      "12/12 [==============================] - 0s 9ms/step - loss: 23.7171 - val_loss: 70.1259\n",
      "Epoch 96/100\n",
      "12/12 [==============================] - 0s 8ms/step - loss: 24.1304 - val_loss: 92.3402\n",
      "Epoch 97/100\n",
      "12/12 [==============================] - 0s 9ms/step - loss: 23.9545 - val_loss: 76.5307\n",
      "Epoch 98/100\n",
      "12/12 [==============================] - 0s 11ms/step - loss: 22.3784 - val_loss: 84.2228\n",
      "Epoch 99/100\n",
      "12/12 [==============================] - 0s 8ms/step - loss: 23.1657 - val_loss: 77.1122\n",
      "Epoch 100/100\n",
      "12/12 [==============================] - 0s 8ms/step - loss: 25.5920 - val_loss: 96.1579\n"
     ]
    }
   ],
   "source": [
    "history = model.fit(X_train, y_train, epochs=100, validation_split=0.05, verbose = 1)"
   ]
  },
  {
   "cell_type": "code",
   "execution_count": 53,
   "metadata": {
    "colab": {
     "base_uri": "https://localhost:8080/"
    },
    "id": "3uH8kFnx317C",
    "outputId": "2fb39e5a-7bc8-4ea2-d9af-d43dd3a0082f"
   },
   "outputs": [
    {
     "name": "stdout",
     "output_type": "stream",
     "text": [
      "4/4 [==============================] - 0s 5ms/step - loss: 34.0746\n",
      "Mean squared error on test data:  34.074581146240234\n"
     ]
    }
   ],
   "source": [
    "mse = model.evaluate(X_test, y_test)\n",
    "print('Mean squared error on test data: ', mse)"
   ]
  },
  {
   "cell_type": "code",
   "execution_count": 54,
   "metadata": {
    "colab": {
     "base_uri": "https://localhost:8080/"
    },
    "id": "8swEKNyFyXdQ",
    "outputId": "18778981-1879-40a6-e2c7-69cb4d63babb"
   },
   "outputs": [],
   "source": [
    "y_pred = model.predict(X_test)"
   ]
  },
  {
   "cell_type": "code",
   "execution_count": 55,
   "metadata": {
    "colab": {
     "base_uri": "https://localhost:8080/"
    },
    "id": "1Ai5cqioyfpK",
    "outputId": "9a83cdae-c5cd-431c-e609-058f5e4dd94e"
   },
   "outputs": [
    {
     "data": {
      "text/plain": [
       "5.837343309525053"
      ]
     },
     "execution_count": 55,
     "metadata": {},
     "output_type": "execute_result"
    }
   ],
   "source": [
    "mse = mean_squared_error(y_test, y_pred)**(0.5)\n",
    "mse"
   ]
  },
  {
   "cell_type": "code",
   "execution_count": 56,
   "metadata": {},
   "outputs": [
    {
     "name": "stdout",
     "output_type": "stream",
     "text": [
      "Actual predicted values: [[24.140251]]\n"
     ]
    }
   ],
   "source": [
    "new_inputs = np.array([[0.006, 18, 2.3,0,0.53,6.5,65.2,4.0,1,296,15,396.9,4.98]])\n",
    "inp = np.array([[0.02731,0.0,7.07,0.0,0.469,6.421,78.9,4.9671,2,242,17.8,396.90,9.14]])\n",
    "predictions = model.predict(inp)\n",
    "print(\"Actual predicted values:\", predictions)\n"
   ]
  },
  {
   "cell_type": "code",
   "execution_count": null,
   "metadata": {},
   "outputs": [],
   "source": []
  }
 ],
 "metadata": {
  "colab": {
   "provenance": []
  },
  "kernelspec": {
   "display_name": "Python 3 (ipykernel)",
   "language": "python",
   "name": "python3"
  },
  "language_info": {
   "codemirror_mode": {
    "name": "ipython",
    "version": 3
   },
   "file_extension": ".py",
   "mimetype": "text/x-python",
   "name": "python",
   "nbconvert_exporter": "python",
   "pygments_lexer": "ipython3",
   "version": "3.9.6"
  }
 },
 "nbformat": 4,
 "nbformat_minor": 1
}
